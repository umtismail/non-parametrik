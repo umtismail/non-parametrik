{
 "cells": [
  {
   "cell_type": "markdown",
   "id": "c46e6cac-6cca-45a1-b520-6a5b2ad19eae",
   "metadata": {
    "tags": []
   },
   "source": [
    "## bağımsız"
   ]
  },
  {
   "cell_type": "code",
   "execution_count": 4,
   "id": "7d2949b2-cea9-41ad-b400-520b9ce050da",
   "metadata": {
    "tags": []
   },
   "outputs": [],
   "source": [
    "import pandas as pd\n",
    "import scipy.stats as stats\n",
    "import matplotlib.pyplot as plt"
   ]
  },
  {
   "cell_type": "code",
   "execution_count": 4,
   "id": "1ba36bf0-b66e-4ede-9148-6cb74fe505ea",
   "metadata": {
    "tags": []
   },
   "outputs": [
    {
     "data": {
      "text/html": [
       "<div>\n",
       "<style scoped>\n",
       "    .dataframe tbody tr th:only-of-type {\n",
       "        vertical-align: middle;\n",
       "    }\n",
       "\n",
       "    .dataframe tbody tr th {\n",
       "        vertical-align: top;\n",
       "    }\n",
       "\n",
       "    .dataframe thead th {\n",
       "        text-align: right;\n",
       "    }\n",
       "</style>\n",
       "<table border=\"1\" class=\"dataframe\">\n",
       "  <thead>\n",
       "    <tr style=\"text-align: right;\">\n",
       "      <th></th>\n",
       "      <th>fixed acidity</th>\n",
       "      <th>volatile acidity</th>\n",
       "      <th>citric acid</th>\n",
       "      <th>residual sugar</th>\n",
       "      <th>chlorides</th>\n",
       "      <th>free sulfur dioxide</th>\n",
       "      <th>total sulfur dioxide</th>\n",
       "      <th>density</th>\n",
       "      <th>pH</th>\n",
       "      <th>sulphates</th>\n",
       "      <th>alcohol</th>\n",
       "      <th>quality</th>\n",
       "    </tr>\n",
       "  </thead>\n",
       "  <tbody>\n",
       "    <tr>\n",
       "      <th>0</th>\n",
       "      <td>7.4</td>\n",
       "      <td>0.70</td>\n",
       "      <td>0.00</td>\n",
       "      <td>1.9</td>\n",
       "      <td>0.076</td>\n",
       "      <td>11.0</td>\n",
       "      <td>34.0</td>\n",
       "      <td>0.9978</td>\n",
       "      <td>3.51</td>\n",
       "      <td>0.56</td>\n",
       "      <td>9.4</td>\n",
       "      <td>5</td>\n",
       "    </tr>\n",
       "    <tr>\n",
       "      <th>1</th>\n",
       "      <td>7.8</td>\n",
       "      <td>0.88</td>\n",
       "      <td>0.00</td>\n",
       "      <td>2.6</td>\n",
       "      <td>0.098</td>\n",
       "      <td>25.0</td>\n",
       "      <td>67.0</td>\n",
       "      <td>0.9968</td>\n",
       "      <td>3.20</td>\n",
       "      <td>0.68</td>\n",
       "      <td>9.8</td>\n",
       "      <td>5</td>\n",
       "    </tr>\n",
       "    <tr>\n",
       "      <th>2</th>\n",
       "      <td>7.8</td>\n",
       "      <td>0.76</td>\n",
       "      <td>0.04</td>\n",
       "      <td>2.3</td>\n",
       "      <td>0.092</td>\n",
       "      <td>15.0</td>\n",
       "      <td>54.0</td>\n",
       "      <td>0.9970</td>\n",
       "      <td>3.26</td>\n",
       "      <td>0.65</td>\n",
       "      <td>9.8</td>\n",
       "      <td>5</td>\n",
       "    </tr>\n",
       "    <tr>\n",
       "      <th>3</th>\n",
       "      <td>11.2</td>\n",
       "      <td>0.28</td>\n",
       "      <td>0.56</td>\n",
       "      <td>1.9</td>\n",
       "      <td>0.075</td>\n",
       "      <td>17.0</td>\n",
       "      <td>60.0</td>\n",
       "      <td>0.9980</td>\n",
       "      <td>3.16</td>\n",
       "      <td>0.58</td>\n",
       "      <td>9.8</td>\n",
       "      <td>6</td>\n",
       "    </tr>\n",
       "    <tr>\n",
       "      <th>4</th>\n",
       "      <td>7.4</td>\n",
       "      <td>0.70</td>\n",
       "      <td>0.00</td>\n",
       "      <td>1.9</td>\n",
       "      <td>0.076</td>\n",
       "      <td>11.0</td>\n",
       "      <td>34.0</td>\n",
       "      <td>0.9978</td>\n",
       "      <td>3.51</td>\n",
       "      <td>0.56</td>\n",
       "      <td>9.4</td>\n",
       "      <td>5</td>\n",
       "    </tr>\n",
       "    <tr>\n",
       "      <th>5</th>\n",
       "      <td>7.4</td>\n",
       "      <td>0.66</td>\n",
       "      <td>0.00</td>\n",
       "      <td>1.8</td>\n",
       "      <td>0.075</td>\n",
       "      <td>13.0</td>\n",
       "      <td>40.0</td>\n",
       "      <td>0.9978</td>\n",
       "      <td>3.51</td>\n",
       "      <td>0.56</td>\n",
       "      <td>9.4</td>\n",
       "      <td>5</td>\n",
       "    </tr>\n",
       "    <tr>\n",
       "      <th>6</th>\n",
       "      <td>7.9</td>\n",
       "      <td>0.60</td>\n",
       "      <td>0.06</td>\n",
       "      <td>1.6</td>\n",
       "      <td>0.069</td>\n",
       "      <td>15.0</td>\n",
       "      <td>59.0</td>\n",
       "      <td>0.9964</td>\n",
       "      <td>3.30</td>\n",
       "      <td>0.46</td>\n",
       "      <td>9.4</td>\n",
       "      <td>5</td>\n",
       "    </tr>\n",
       "    <tr>\n",
       "      <th>7</th>\n",
       "      <td>7.3</td>\n",
       "      <td>0.65</td>\n",
       "      <td>0.00</td>\n",
       "      <td>1.2</td>\n",
       "      <td>0.065</td>\n",
       "      <td>15.0</td>\n",
       "      <td>21.0</td>\n",
       "      <td>0.9946</td>\n",
       "      <td>3.39</td>\n",
       "      <td>0.47</td>\n",
       "      <td>10.0</td>\n",
       "      <td>7</td>\n",
       "    </tr>\n",
       "    <tr>\n",
       "      <th>8</th>\n",
       "      <td>7.8</td>\n",
       "      <td>0.58</td>\n",
       "      <td>0.02</td>\n",
       "      <td>2.0</td>\n",
       "      <td>0.073</td>\n",
       "      <td>9.0</td>\n",
       "      <td>18.0</td>\n",
       "      <td>0.9968</td>\n",
       "      <td>3.36</td>\n",
       "      <td>0.57</td>\n",
       "      <td>9.5</td>\n",
       "      <td>7</td>\n",
       "    </tr>\n",
       "    <tr>\n",
       "      <th>9</th>\n",
       "      <td>7.5</td>\n",
       "      <td>0.50</td>\n",
       "      <td>0.36</td>\n",
       "      <td>6.1</td>\n",
       "      <td>0.071</td>\n",
       "      <td>17.0</td>\n",
       "      <td>102.0</td>\n",
       "      <td>0.9978</td>\n",
       "      <td>3.35</td>\n",
       "      <td>0.80</td>\n",
       "      <td>10.5</td>\n",
       "      <td>5</td>\n",
       "    </tr>\n",
       "  </tbody>\n",
       "</table>\n",
       "</div>"
      ],
      "text/plain": [
       "   fixed acidity  volatile acidity  citric acid  residual sugar  chlorides  \\\n",
       "0            7.4              0.70         0.00             1.9      0.076   \n",
       "1            7.8              0.88         0.00             2.6      0.098   \n",
       "2            7.8              0.76         0.04             2.3      0.092   \n",
       "3           11.2              0.28         0.56             1.9      0.075   \n",
       "4            7.4              0.70         0.00             1.9      0.076   \n",
       "5            7.4              0.66         0.00             1.8      0.075   \n",
       "6            7.9              0.60         0.06             1.6      0.069   \n",
       "7            7.3              0.65         0.00             1.2      0.065   \n",
       "8            7.8              0.58         0.02             2.0      0.073   \n",
       "9            7.5              0.50         0.36             6.1      0.071   \n",
       "\n",
       "   free sulfur dioxide  total sulfur dioxide  density    pH  sulphates  \\\n",
       "0                 11.0                  34.0   0.9978  3.51       0.56   \n",
       "1                 25.0                  67.0   0.9968  3.20       0.68   \n",
       "2                 15.0                  54.0   0.9970  3.26       0.65   \n",
       "3                 17.0                  60.0   0.9980  3.16       0.58   \n",
       "4                 11.0                  34.0   0.9978  3.51       0.56   \n",
       "5                 13.0                  40.0   0.9978  3.51       0.56   \n",
       "6                 15.0                  59.0   0.9964  3.30       0.46   \n",
       "7                 15.0                  21.0   0.9946  3.39       0.47   \n",
       "8                  9.0                  18.0   0.9968  3.36       0.57   \n",
       "9                 17.0                 102.0   0.9978  3.35       0.80   \n",
       "\n",
       "   alcohol  quality  \n",
       "0      9.4        5  \n",
       "1      9.8        5  \n",
       "2      9.8        5  \n",
       "3      9.8        6  \n",
       "4      9.4        5  \n",
       "5      9.4        5  \n",
       "6      9.4        5  \n",
       "7     10.0        7  \n",
       "8      9.5        7  \n",
       "9     10.5        5  "
      ]
     },
     "execution_count": 4,
     "metadata": {},
     "output_type": "execute_result"
    }
   ],
   "source": [
    "df = pd.read_excel('winequality_red.xlsx')\n",
    "df.head(10)"
   ]
  },
  {
   "cell_type": "code",
   "execution_count": 5,
   "id": "6cdf979c-50b3-4fca-b782-a1f3a7b33f3c",
   "metadata": {
    "tags": []
   },
   "outputs": [
    {
     "data": {
      "text/html": [
       "<div>\n",
       "<style scoped>\n",
       "    .dataframe tbody tr th:only-of-type {\n",
       "        vertical-align: middle;\n",
       "    }\n",
       "\n",
       "    .dataframe tbody tr th {\n",
       "        vertical-align: top;\n",
       "    }\n",
       "\n",
       "    .dataframe thead th {\n",
       "        text-align: right;\n",
       "    }\n",
       "</style>\n",
       "<table border=\"1\" class=\"dataframe\">\n",
       "  <thead>\n",
       "    <tr style=\"text-align: right;\">\n",
       "      <th></th>\n",
       "      <th>bad</th>\n",
       "      <th>good</th>\n",
       "      <th>high</th>\n",
       "    </tr>\n",
       "  </thead>\n",
       "  <tbody>\n",
       "    <tr>\n",
       "      <th>0</th>\n",
       "      <td>8.3</td>\n",
       "      <td>8.2</td>\n",
       "      <td>15.0</td>\n",
       "    </tr>\n",
       "    <tr>\n",
       "      <th>1</th>\n",
       "      <td>6.9</td>\n",
       "      <td>8.0</td>\n",
       "      <td>7.1</td>\n",
       "    </tr>\n",
       "    <tr>\n",
       "      <th>2</th>\n",
       "      <td>6.9</td>\n",
       "      <td>8.9</td>\n",
       "      <td>8.3</td>\n",
       "    </tr>\n",
       "    <tr>\n",
       "      <th>3</th>\n",
       "      <td>7.1</td>\n",
       "      <td>6.3</td>\n",
       "      <td>8.8</td>\n",
       "    </tr>\n",
       "    <tr>\n",
       "      <th>4</th>\n",
       "      <td>7.0</td>\n",
       "      <td>10.1</td>\n",
       "      <td>11.6</td>\n",
       "    </tr>\n",
       "    <tr>\n",
       "      <th>5</th>\n",
       "      <td>7.4</td>\n",
       "      <td>9.0</td>\n",
       "      <td>8.9</td>\n",
       "    </tr>\n",
       "    <tr>\n",
       "      <th>6</th>\n",
       "      <td>7.9</td>\n",
       "      <td>10.0</td>\n",
       "      <td>10.2</td>\n",
       "    </tr>\n",
       "    <tr>\n",
       "      <th>7</th>\n",
       "      <td>5.6</td>\n",
       "      <td>8.6</td>\n",
       "      <td>18.3</td>\n",
       "    </tr>\n",
       "    <tr>\n",
       "      <th>8</th>\n",
       "      <td>10.4</td>\n",
       "      <td>8.6</td>\n",
       "      <td>6.1</td>\n",
       "    </tr>\n",
       "    <tr>\n",
       "      <th>9</th>\n",
       "      <td>9.1</td>\n",
       "      <td>6.1</td>\n",
       "      <td>11.6</td>\n",
       "    </tr>\n",
       "    <tr>\n",
       "      <th>10</th>\n",
       "      <td>7.3</td>\n",
       "      <td>10.4</td>\n",
       "      <td>7.9</td>\n",
       "    </tr>\n",
       "    <tr>\n",
       "      <th>11</th>\n",
       "      <td>7.5</td>\n",
       "      <td>7.0</td>\n",
       "      <td>7.0</td>\n",
       "    </tr>\n",
       "    <tr>\n",
       "      <th>12</th>\n",
       "      <td>7.6</td>\n",
       "      <td>7.0</td>\n",
       "      <td>9.4</td>\n",
       "    </tr>\n",
       "    <tr>\n",
       "      <th>13</th>\n",
       "      <td>8.4</td>\n",
       "      <td>7.8</td>\n",
       "      <td>8.2</td>\n",
       "    </tr>\n",
       "    <tr>\n",
       "      <th>14</th>\n",
       "      <td>7.4</td>\n",
       "      <td>7.4</td>\n",
       "      <td>11.9</td>\n",
       "    </tr>\n",
       "    <tr>\n",
       "      <th>15</th>\n",
       "      <td>6.7</td>\n",
       "      <td>6.5</td>\n",
       "      <td>8.7</td>\n",
       "    </tr>\n",
       "    <tr>\n",
       "      <th>16</th>\n",
       "      <td>6.8</td>\n",
       "      <td>8.9</td>\n",
       "      <td>9.9</td>\n",
       "    </tr>\n",
       "    <tr>\n",
       "      <th>17</th>\n",
       "      <td>6.7</td>\n",
       "      <td>11.3</td>\n",
       "      <td>8.9</td>\n",
       "    </tr>\n",
       "    <tr>\n",
       "      <th>18</th>\n",
       "      <td>8.4</td>\n",
       "      <td>6.9</td>\n",
       "      <td>6.6</td>\n",
       "    </tr>\n",
       "    <tr>\n",
       "      <th>19</th>\n",
       "      <td>7.3</td>\n",
       "      <td>6.1</td>\n",
       "      <td>10.2</td>\n",
       "    </tr>\n",
       "    <tr>\n",
       "      <th>20</th>\n",
       "      <td>6.5</td>\n",
       "      <td>7.4</td>\n",
       "      <td>12.8</td>\n",
       "    </tr>\n",
       "    <tr>\n",
       "      <th>21</th>\n",
       "      <td>8.3</td>\n",
       "      <td>8.4</td>\n",
       "      <td>9.1</td>\n",
       "    </tr>\n",
       "    <tr>\n",
       "      <th>22</th>\n",
       "      <td>8.5</td>\n",
       "      <td>6.7</td>\n",
       "      <td>8.0</td>\n",
       "    </tr>\n",
       "    <tr>\n",
       "      <th>23</th>\n",
       "      <td>9.9</td>\n",
       "      <td>9.3</td>\n",
       "      <td>12.9</td>\n",
       "    </tr>\n",
       "    <tr>\n",
       "      <th>24</th>\n",
       "      <td>6.9</td>\n",
       "      <td>7.1</td>\n",
       "      <td>7.2</td>\n",
       "    </tr>\n",
       "    <tr>\n",
       "      <th>25</th>\n",
       "      <td>6.3</td>\n",
       "      <td>10.2</td>\n",
       "      <td>6.8</td>\n",
       "    </tr>\n",
       "    <tr>\n",
       "      <th>26</th>\n",
       "      <td>12.5</td>\n",
       "      <td>6.4</td>\n",
       "      <td>5.6</td>\n",
       "    </tr>\n",
       "    <tr>\n",
       "      <th>27</th>\n",
       "      <td>7.6</td>\n",
       "      <td>6.8</td>\n",
       "      <td>9.6</td>\n",
       "    </tr>\n",
       "    <tr>\n",
       "      <th>28</th>\n",
       "      <td>8.2</td>\n",
       "      <td>6.5</td>\n",
       "      <td>7.2</td>\n",
       "    </tr>\n",
       "    <tr>\n",
       "      <th>29</th>\n",
       "      <td>10.2</td>\n",
       "      <td>6.8</td>\n",
       "      <td>10.4</td>\n",
       "    </tr>\n",
       "  </tbody>\n",
       "</table>\n",
       "</div>"
      ],
      "text/plain": [
       "     bad  good  high\n",
       "0    8.3   8.2  15.0\n",
       "1    6.9   8.0   7.1\n",
       "2    6.9   8.9   8.3\n",
       "3    7.1   6.3   8.8\n",
       "4    7.0  10.1  11.6\n",
       "5    7.4   9.0   8.9\n",
       "6    7.9  10.0  10.2\n",
       "7    5.6   8.6  18.3\n",
       "8   10.4   8.6   6.1\n",
       "9    9.1   6.1  11.6\n",
       "10   7.3  10.4   7.9\n",
       "11   7.5   7.0   7.0\n",
       "12   7.6   7.0   9.4\n",
       "13   8.4   7.8   8.2\n",
       "14   7.4   7.4  11.9\n",
       "15   6.7   6.5   8.7\n",
       "16   6.8   8.9   9.9\n",
       "17   6.7  11.3   8.9\n",
       "18   8.4   6.9   6.6\n",
       "19   7.3   6.1  10.2\n",
       "20   6.5   7.4  12.8\n",
       "21   8.3   8.4   9.1\n",
       "22   8.5   6.7   8.0\n",
       "23   9.9   9.3  12.9\n",
       "24   6.9   7.1   7.2\n",
       "25   6.3  10.2   6.8\n",
       "26  12.5   6.4   5.6\n",
       "27   7.6   6.8   9.6\n",
       "28   8.2   6.5   7.2\n",
       "29  10.2   6.8  10.4"
      ]
     },
     "execution_count": 5,
     "metadata": {},
     "output_type": "execute_result"
    }
   ],
   "source": [
    "\"\"\"\n",
    "bu kod yukarıdaki veriden 30 ar tane örneklem çekmek için kullandım\n",
    "\n",
    "# NA değerlerini filtrele\n",
    "df = df.dropna()\n",
    "\n",
    "# Kalite 3-4 aralığını filtrele\n",
    "df_bad = df[df[\"quality\"].between(3, 4)]\n",
    "df_good = df[df[\"quality\"].between(5, 6)]\n",
    "df_high = df[df[\"quality\"].between(7, 8)]\n",
    "\n",
    "# Fixed acidity değerlerini rastgele seç\n",
    "fixed_acidity_samples_bad = df_bad[\"fixed acidity\"].sample(30)\n",
    "fixed_acidity_samples_good = df_good[\"fixed acidity\"].sample(30)\n",
    "fixed_acidity_samples_high = df_high[\"fixed acidity\"].sample(30)\n",
    "\n",
    "bad=pd.array(fixed_acidity_samples_bad)\n",
    "good=pd.array(fixed_acidity_samples_good)\n",
    "high=pd.array(fixed_acidity_samples_high)\n",
    "\n",
    "sample = pd.DataFrame({\n",
    "    \"bad\": bad,\n",
    "    \"good\": good,\n",
    "    \"high\": high\n",
    "})\n",
    "sample\n",
    "#örneklemi kaydediyorum\n",
    "sample.to_csv(\"fixed_acidity_samples.csv\", index=False)\n",
    "\"\"\"\n",
    "#kaydetiğim örneklemi çağırıyorum\n",
    "sample = pd.read_csv(\"fixed_acidity_samples.csv\")\n",
    "bad = sample[\"bad\"]\n",
    "good = sample[\"good\"]\n",
    "high = sample[\"high\"]\n",
    "sample"
   ]
  },
  {
   "cell_type": "code",
   "execution_count": 39,
   "id": "e377a23d-3ce8-4c36-9db8-e23b1a300191",
   "metadata": {
    "tags": []
   },
   "outputs": [
    {
     "name": "stdout",
     "output_type": "stream",
     "text": [
      "count    30.000000\n",
      "mean      7.853333\n",
      "std       1.429428\n",
      "min       5.600000\n",
      "25%       6.900000\n",
      "50%       7.450000\n",
      "75%       8.375000\n",
      "max      12.500000\n",
      "Name: bad, dtype: float64\n"
     ]
    }
   ],
   "source": [
    "print(sample[\"bad\"].describe())"
   ]
  },
  {
   "cell_type": "code",
   "execution_count": 40,
   "id": "cf59ab52-9f18-4628-a77a-5052e7c1fca7",
   "metadata": {
    "tags": []
   },
   "outputs": [
    {
     "name": "stdout",
     "output_type": "stream",
     "text": [
      "count    30.000000\n",
      "mean      7.956667\n",
      "std       1.457367\n",
      "min       6.100000\n",
      "25%       6.800000\n",
      "50%       7.600000\n",
      "75%       8.900000\n",
      "max      11.300000\n",
      "Name: good, dtype: float64\n"
     ]
    }
   ],
   "source": [
    "print(sample[\"good\"].describe())"
   ]
  },
  {
   "cell_type": "code",
   "execution_count": 52,
   "id": "4160ff42-2074-449d-890d-4a3c65a86ad7",
   "metadata": {
    "tags": []
   },
   "outputs": [
    {
     "name": "stdout",
     "output_type": "stream",
     "text": [
      "count    30.000000\n",
      "mean      9.473333\n",
      "std       2.764795\n",
      "min       5.600000\n",
      "25%       7.375000\n",
      "50%       8.900000\n",
      "75%      10.350000\n",
      "max      18.300000\n",
      "Name: high, dtype: float64\n"
     ]
    }
   ],
   "source": [
    "print(sample[\"high\"].describe())"
   ]
  },
  {
   "cell_type": "code",
   "execution_count": 42,
   "id": "83953ff9-e49d-4afd-80e9-bb05b65433f3",
   "metadata": {
    "tags": []
   },
   "outputs": [
    {
     "data": {
      "text/plain": [
       "ShapiroResult(statistic=0.8853855133056641, pvalue=0.0037570165004581213)"
      ]
     },
     "execution_count": 42,
     "metadata": {},
     "output_type": "execute_result"
    }
   ],
   "source": [
    "from scipy.stats import shapiro\n",
    "shapiro(bad)"
   ]
  },
  {
   "cell_type": "code",
   "execution_count": 43,
   "id": "bffe8fcc-a484-454b-92a2-8a54bd7ab99c",
   "metadata": {
    "tags": []
   },
   "outputs": [
    {
     "data": {
      "text/plain": [
       "ShapiroResult(statistic=0.9274716377258301, pvalue=0.042085450142621994)"
      ]
     },
     "execution_count": 43,
     "metadata": {},
     "output_type": "execute_result"
    }
   ],
   "source": [
    "shapiro(good)"
   ]
  },
  {
   "cell_type": "code",
   "execution_count": 55,
   "id": "1f3cfbc2-466b-4350-a276-5f8bd67fc5de",
   "metadata": {
    "tags": []
   },
   "outputs": [
    {
     "data": {
      "text/plain": [
       "ShapiroResult(statistic=0.9074692130088806, pvalue=0.012853750959038734)"
      ]
     },
     "execution_count": 55,
     "metadata": {},
     "output_type": "execute_result"
    }
   ],
   "source": [
    "shapiro(high)"
   ]
  },
  {
   "cell_type": "code",
   "execution_count": 56,
   "id": "089f64f7-94f7-427b-bff8-5e5164c1a2a1",
   "metadata": {
    "tags": []
   },
   "outputs": [
    {
     "data": {
      "text/plain": [
       "array([[<Axes: title={'center': 'high'}>]], dtype=object)"
      ]
     },
     "execution_count": 56,
     "metadata": {},
     "output_type": "execute_result"
    },
    {
     "data": {
      "image/png": "[encoded data removed]",
      "text/plain": [
       "<Figure size 640x480 with 1 Axes>"
      ]
     },
     "metadata": {},
     "output_type": "display_data"
    },
    {
     "data": {
      "image/png": "[encoded data removed]",
      "text/plain": [
       "<Figure size 640x480 with 1 Axes>"
      ]
     },
     "metadata": {},
     "output_type": "display_data"
    },
    {
     "data": {
      "image/png": "[encoded data removed]",
      "text/plain": [
       "<Figure size 640x480 with 1 Axes>"
      ]
     },
     "metadata": {},
     "output_type": "display_data"
    }
   ],
   "source": [
    "sample.hist(\"bad\")\n",
    "sample.hist(\"good\")\n",
    "sample.hist(\"high\")"
   ]
  },
  {
   "cell_type": "code",
   "execution_count": 57,
   "id": "1c886249-0b1a-4170-a8e3-9622ffe64cd5",
   "metadata": {
    "tags": []
   },
   "outputs": [
    {
     "data": {
      "text/plain": [
       "((array([-1.99833768, -1.59452553, -1.35103668, -1.1686393 , -1.01855497,\n",
       "         -0.8884856 , -0.77194854, -0.66506298, -0.56529149, -0.47085985,\n",
       "         -0.38045711, -0.29306636, -0.20786198, -0.12414301, -0.04128669,\n",
       "          0.04128669,  0.12414301,  0.20786198,  0.29306636,  0.38045711,\n",
       "          0.47085985,  0.56529149,  0.66506298,  0.77194854,  0.8884856 ,\n",
       "          1.01855497,  1.1686393 ,  1.35103668,  1.59452553,  1.99833768]),\n",
       "  array([ 5.6,  6.3,  6.5,  6.7,  6.7,  6.8,  6.9,  6.9,  6.9,  7. ,  7.1,\n",
       "          7.3,  7.3,  7.4,  7.4,  7.5,  7.6,  7.6,  7.9,  8.2,  8.3,  8.3,\n",
       "          8.4,  8.4,  8.5,  9.1,  9.9, 10.2, 10.4, 12.5])),\n",
       " (1.3879517476308487, 7.8533333333333335, 0.934269030298478))"
      ]
     },
     "execution_count": 57,
     "metadata": {},
     "output_type": "execute_result"
    },
    {
     "data": {
      "image/png": "[encoded data removed]",
      "text/plain": [
       "<Figure size 640x480 with 1 Axes>"
      ]
     },
     "metadata": {},
     "output_type": "display_data"
    }
   ],
   "source": [
    "stats.probplot(sample[\"bad\"],dist=\"norm\",plot=plt)"
   ]
  },
  {
   "cell_type": "code",
   "execution_count": 58,
   "id": "b516367a-df72-41c4-8698-ff3574df6730",
   "metadata": {
    "tags": []
   },
   "outputs": [
    {
     "data": {
      "text/plain": [
       "((array([-1.99833768, -1.59452553, -1.35103668, -1.1686393 , -1.01855497,\n",
       "         -0.8884856 , -0.77194854, -0.66506298, -0.56529149, -0.47085985,\n",
       "         -0.38045711, -0.29306636, -0.20786198, -0.12414301, -0.04128669,\n",
       "          0.04128669,  0.12414301,  0.20786198,  0.29306636,  0.38045711,\n",
       "          0.47085985,  0.56529149,  0.66506298,  0.77194854,  0.8884856 ,\n",
       "          1.01855497,  1.1686393 ,  1.35103668,  1.59452553,  1.99833768]),\n",
       "  array([ 6.1,  6.1,  6.3,  6.4,  6.5,  6.5,  6.7,  6.8,  6.8,  6.9,  7. ,\n",
       "          7. ,  7.1,  7.4,  7.4,  7.8,  8. ,  8.2,  8.4,  8.6,  8.6,  8.9,\n",
       "          8.9,  9. ,  9.3, 10. , 10.1, 10.2, 10.4, 11.3])),\n",
       " (1.4671991160688536, 7.956666666666666, 0.9686790160232641))"
      ]
     },
     "execution_count": 58,
     "metadata": {},
     "output_type": "execute_result"
    },
    {
     "data": {
      "image/png": "[encoded data removed]",
      "text/plain": [
       "<Figure size 640x480 with 1 Axes>"
      ]
     },
     "metadata": {},
     "output_type": "display_data"
    }
   ],
   "source": [
    "stats.probplot(sample[\"good\"],dist=\"norm\",plot=plt)"
   ]
  },
  {
   "cell_type": "code",
   "execution_count": 59,
   "id": "c5683c24-b35f-4d28-ae74-74ff4b8d082f",
   "metadata": {
    "tags": []
   },
   "outputs": [
    {
     "data": {
      "image/png": "[encoded data removed]",
      "text/plain": [
       "<Figure size 900x300 with 3 Axes>"
      ]
     },
     "metadata": {},
     "output_type": "display_data"
    }
   ],
   "source": [
    "plt.figure(figsize=(9, 3))\n",
    "\n",
    "plt.subplot(131)\n",
    "plt.boxplot(sample.bad)\n",
    "plt.title(\"bad\")\n",
    "\n",
    "plt.subplot(132)\n",
    "plt.boxplot(sample.good)\n",
    "plt.title(\"good\")\n",
    "\n",
    "plt.subplot(133)\n",
    "plt.boxplot(sample.high)\n",
    "plt.title(\"high\")\n",
    "\n",
    "plt.show()"
   ]
  },
  {
   "cell_type": "code",
   "execution_count": 7,
   "id": "90c7f0c6-4541-4f33-ae3c-7703c0eb1f7c",
   "metadata": {
    "tags": []
   },
   "outputs": [
    {
     "data": {
      "text/plain": [
       "BinomTestResult(k=15, n=30, alternative='greater', statistic=0.5, pvalue=0.572232224047184)"
      ]
     },
     "execution_count": 7,
     "metadata": {},
     "output_type": "execute_result"
    }
   ],
   "source": [
    "from scipy.stats import binomtest\n",
    "import statistics\n",
    "median_ = statistics.median(bad) \n",
    "n = len(bad)\n",
    "nPlus = len(bad[bad > median_])\n",
    "nNeg = len(bad[bad < median_])\n",
    "n = nPlus + nNeg\n",
    "binomtest(nPlus, n, p=0.5, alternative='greater')"
   ]
  },
  {
   "cell_type": "code",
   "execution_count": 64,
   "id": "483d841d-4a4a-45df-b298-34fcc5ad744d",
   "metadata": {
    "tags": []
   },
   "outputs": [
    {
     "data": {
      "text/plain": [
       "BinomTestResult(k=15, n=30, alternative='less', statistic=0.5, pvalue=0.572232224047184)"
      ]
     },
     "execution_count": 64,
     "metadata": {},
     "output_type": "execute_result"
    }
   ],
   "source": [
    "median_ = statistics.median(good) \n",
    "n = len(good)\n",
    "nPlus = len(good[good > median_])\n",
    "nNeg = len(good[good < median_])\n",
    "n = nPlus + nNeg\n",
    "binomtest(nPlus, n, p=0.5, alternative='less')"
   ]
  },
  {
   "cell_type": "code",
   "execution_count": 8,
   "id": "42e75e59-8387-4043-b41f-868647a96639",
   "metadata": {
    "tags": []
   },
   "outputs": [
    {
     "data": {
      "text/plain": [
       "BinomTestResult(k=14, n=28, alternative='two-sided', statistic=0.5, pvalue=1.0)"
      ]
     },
     "execution_count": 8,
     "metadata": {},
     "output_type": "execute_result"
    }
   ],
   "source": [
    "median_ = statistics.median(high) \n",
    "n = len(high)\n",
    "nPlus = len(high[high > median_])\n",
    "nNeg = len(high[high < median_])\n",
    "n = nPlus + nNeg\n",
    "binomtest(nPlus, n, p=0.5, alternative='two-sided')"
   ]
  },
  {
   "cell_type": "code",
   "execution_count": 10,
   "id": "716f3f5e-ede3-4785-b46a-38444bc34f34",
   "metadata": {
    "tags": []
   },
   "outputs": [
    {
     "data": {
      "text/plain": [
       "WilcoxonResult(statistic=276.5, pvalue=0.1908992175012827)"
      ]
     },
     "execution_count": 10,
     "metadata": {},
     "output_type": "execute_result"
    }
   ],
   "source": [
    "from scipy.stats import wilcoxon\n",
    "med0 = statistics.median(bad) \n",
    "wilcoxon(bad - med0,\n",
    "alternative = 'greater',\n",
    "method = 'exact',\n",
    "zero_method = 'zsplit',\n",
    "correction = True)"
   ]
  },
  {
   "cell_type": "code",
   "execution_count": 11,
   "id": "1ab07df1-d372-45db-831d-85b7fd75e369",
   "metadata": {
    "tags": []
   },
   "outputs": [
    {
     "data": {
      "text/plain": [
       "WilcoxonResult(statistic=283.0, pvalue=0.852971404258287)"
      ]
     },
     "execution_count": 11,
     "metadata": {},
     "output_type": "execute_result"
    }
   ],
   "source": [
    "med0 = statistics.median(good) \n",
    "wilcoxon(good - med0,\n",
    "alternative = 'less',\n",
    "method = 'approx',\n",
    "zero_method = 'zsplit',\n",
    "correction = True)"
   ]
  },
  {
   "cell_type": "code",
   "execution_count": 16,
   "id": "6798b358-4dfd-4028-8a26-d525bb31f987",
   "metadata": {
    "tags": []
   },
   "outputs": [
    {
     "name": "stderr",
     "output_type": "stream",
     "text": [
      "C:\\Users\\Eugeo\\anaconda3\\Lib\\site-packages\\scipy\\stats\\_morestats.py:3414: UserWarning: Exact p-value calculation does not work if there are zeros. Switching to normal approximation.\n",
      "  warnings.warn(\"Exact p-value calculation does not work if there are \"\n"
     ]
    },
    {
     "data": {
      "text/plain": [
       "WilcoxonResult(statistic=208.0, pvalue=0.6215142374177636)"
      ]
     },
     "execution_count": 16,
     "metadata": {},
     "output_type": "execute_result"
    }
   ],
   "source": [
    "med0 = statistics.median(high) \n",
    "wilcoxon(high - med0,\n",
    "alternative = 'two-sided',\n",
    "method = 'exact',\n",
    "zero_method = 'zsplit',\n",
    "correction = True)"
   ]
  },
  {
   "cell_type": "code",
   "execution_count": 18,
   "id": "455d9996-1250-4fbe-8378-5026da4e7e08",
   "metadata": {
    "tags": []
   },
   "outputs": [
    {
     "data": {
      "text/plain": [
       "MannwhitneyuResult(statistic=440.0, pvalue=0.8882241372729491)"
      ]
     },
     "execution_count": 18,
     "metadata": {},
     "output_type": "execute_result"
    }
   ],
   "source": [
    "from scipy import stats\n",
    "import numpy as np\n",
    "stats.mannwhitneyu(bad, good, alternative = 'two-sided')"
   ]
  },
  {
   "cell_type": "code",
   "execution_count": 19,
   "id": "60048c52-6c4d-460d-94ac-5e26d86879d2",
   "metadata": {
    "tags": []
   },
   "outputs": [
    {
     "data": {
      "text/plain": [
       "KruskalResult(statistic=8.280598166669446, pvalue=0.015918089957070662)"
      ]
     },
     "execution_count": 19,
     "metadata": {},
     "output_type": "execute_result"
    }
   ],
   "source": [
    "from scipy import stats\n",
    "stats.kruskal(bad,good,high)"
   ]
  },
  {
   "cell_type": "code",
   "execution_count": 20,
   "id": "0ff73b7c-39d3-41ab-904a-68dff1d95d25",
   "metadata": {
    "tags": []
   },
   "outputs": [
    {
     "name": "stdout",
     "output_type": "stream",
     "text": [
      "           bad      good      high\n",
      "bad   1.000000  0.868459  0.010148\n",
      "good  0.868459  1.000000  0.016166\n",
      "high  0.010148  0.016166  1.000000\n"
     ]
    }
   ],
   "source": [
    "import numpy as np\n",
    "from scikit_posthocs import posthoc_dunn\n",
    "scoref = np.concatenate((bad, good, high))\n",
    "dff = pd.DataFrame({'score': scoref,\n",
    "                    'quality': np.repeat(['bad', 'good', 'high'], repeats=30)})  \n",
    "dff\n",
    "\n",
    "results = posthoc_dunn(dff, val_col='score', group_col='quality')\n",
    "\n",
    "print(results)"
   ]
  },
  {
   "cell_type": "markdown",
   "id": "a2e21302-a820-4dd3-8864-9e7e608bb4d6",
   "metadata": {
    "tags": []
   },
   "source": [
    "## BAĞIMLI"
   ]
  },
  {
   "cell_type": "code",
   "execution_count": 3,
   "id": "3d392a47-ba9f-462a-a1b6-f058dc5bbc83",
   "metadata": {
    "tags": []
   },
   "outputs": [
    {
     "data": {
      "text/html": [
       "<div>\n",
       "<style scoped>\n",
       "    .dataframe tbody tr th:only-of-type {\n",
       "        vertical-align: middle;\n",
       "    }\n",
       "\n",
       "    .dataframe tbody tr th {\n",
       "        vertical-align: top;\n",
       "    }\n",
       "\n",
       "    .dataframe thead th {\n",
       "        text-align: right;\n",
       "    }\n",
       "</style>\n",
       "<table border=\"1\" class=\"dataframe\">\n",
       "  <thead>\n",
       "    <tr style=\"text-align: right;\">\n",
       "      <th></th>\n",
       "      <th>gender</th>\n",
       "      <th>race/ethnicity</th>\n",
       "      <th>parental level of education</th>\n",
       "      <th>lunch</th>\n",
       "      <th>test preparation course</th>\n",
       "      <th>math score</th>\n",
       "      <th>reading score</th>\n",
       "      <th>writing score</th>\n",
       "    </tr>\n",
       "  </thead>\n",
       "  <tbody>\n",
       "    <tr>\n",
       "      <th>0</th>\n",
       "      <td>female</td>\n",
       "      <td>group D</td>\n",
       "      <td>some college</td>\n",
       "      <td>standard</td>\n",
       "      <td>completed</td>\n",
       "      <td>59</td>\n",
       "      <td>70</td>\n",
       "      <td>78</td>\n",
       "    </tr>\n",
       "    <tr>\n",
       "      <th>1</th>\n",
       "      <td>male</td>\n",
       "      <td>group D</td>\n",
       "      <td>associate's degree</td>\n",
       "      <td>standard</td>\n",
       "      <td>none</td>\n",
       "      <td>96</td>\n",
       "      <td>93</td>\n",
       "      <td>87</td>\n",
       "    </tr>\n",
       "    <tr>\n",
       "      <th>2</th>\n",
       "      <td>female</td>\n",
       "      <td>group D</td>\n",
       "      <td>some college</td>\n",
       "      <td>free/reduced</td>\n",
       "      <td>none</td>\n",
       "      <td>57</td>\n",
       "      <td>76</td>\n",
       "      <td>77</td>\n",
       "    </tr>\n",
       "    <tr>\n",
       "      <th>3</th>\n",
       "      <td>male</td>\n",
       "      <td>group B</td>\n",
       "      <td>some college</td>\n",
       "      <td>free/reduced</td>\n",
       "      <td>none</td>\n",
       "      <td>70</td>\n",
       "      <td>70</td>\n",
       "      <td>63</td>\n",
       "    </tr>\n",
       "    <tr>\n",
       "      <th>4</th>\n",
       "      <td>female</td>\n",
       "      <td>group D</td>\n",
       "      <td>associate's degree</td>\n",
       "      <td>standard</td>\n",
       "      <td>none</td>\n",
       "      <td>83</td>\n",
       "      <td>85</td>\n",
       "      <td>86</td>\n",
       "    </tr>\n",
       "    <tr>\n",
       "      <th>5</th>\n",
       "      <td>male</td>\n",
       "      <td>group C</td>\n",
       "      <td>some high school</td>\n",
       "      <td>standard</td>\n",
       "      <td>none</td>\n",
       "      <td>68</td>\n",
       "      <td>57</td>\n",
       "      <td>54</td>\n",
       "    </tr>\n",
       "    <tr>\n",
       "      <th>6</th>\n",
       "      <td>female</td>\n",
       "      <td>group E</td>\n",
       "      <td>associate's degree</td>\n",
       "      <td>standard</td>\n",
       "      <td>none</td>\n",
       "      <td>82</td>\n",
       "      <td>83</td>\n",
       "      <td>80</td>\n",
       "    </tr>\n",
       "    <tr>\n",
       "      <th>7</th>\n",
       "      <td>female</td>\n",
       "      <td>group B</td>\n",
       "      <td>some high school</td>\n",
       "      <td>standard</td>\n",
       "      <td>none</td>\n",
       "      <td>46</td>\n",
       "      <td>61</td>\n",
       "      <td>58</td>\n",
       "    </tr>\n",
       "    <tr>\n",
       "      <th>8</th>\n",
       "      <td>male</td>\n",
       "      <td>group C</td>\n",
       "      <td>some high school</td>\n",
       "      <td>standard</td>\n",
       "      <td>none</td>\n",
       "      <td>80</td>\n",
       "      <td>75</td>\n",
       "      <td>73</td>\n",
       "    </tr>\n",
       "    <tr>\n",
       "      <th>9</th>\n",
       "      <td>female</td>\n",
       "      <td>group C</td>\n",
       "      <td>bachelor's degree</td>\n",
       "      <td>standard</td>\n",
       "      <td>completed</td>\n",
       "      <td>57</td>\n",
       "      <td>69</td>\n",
       "      <td>77</td>\n",
       "    </tr>\n",
       "  </tbody>\n",
       "</table>\n",
       "</div>"
      ],
      "text/plain": [
       "   gender race/ethnicity parental level of education         lunch  \\\n",
       "0  female        group D                some college      standard   \n",
       "1    male        group D          associate's degree      standard   \n",
       "2  female        group D                some college  free/reduced   \n",
       "3    male        group B                some college  free/reduced   \n",
       "4  female        group D          associate's degree      standard   \n",
       "5    male        group C            some high school      standard   \n",
       "6  female        group E          associate's degree      standard   \n",
       "7  female        group B            some high school      standard   \n",
       "8    male        group C            some high school      standard   \n",
       "9  female        group C           bachelor's degree      standard   \n",
       "\n",
       "  test preparation course  math score  reading score  writing score  \n",
       "0               completed          59             70             78  \n",
       "1                    none          96             93             87  \n",
       "2                    none          57             76             77  \n",
       "3                    none          70             70             63  \n",
       "4                    none          83             85             86  \n",
       "5                    none          68             57             54  \n",
       "6                    none          82             83             80  \n",
       "7                    none          46             61             58  \n",
       "8                    none          80             75             73  \n",
       "9               completed          57             69             77  "
      ]
     },
     "execution_count": 3,
     "metadata": {},
     "output_type": "execute_result"
    }
   ],
   "source": [
    "from scipy.stats import shapiro\n",
    "import numpy as np\n",
    "import pandas as pd\n",
    "import statsmodels.api as sn\n",
    "import matplotlib.pyplot as plt\n",
    "from scipy import stats\n",
    "df_exams = pd.read_csv('exams.csv')\n",
    "df_exams.head(10)"
   ]
  },
  {
   "cell_type": "code",
   "execution_count": 4,
   "id": "fd27a03b-b008-4517-adfd-cb5d479eb335",
   "metadata": {
    "tags": []
   },
   "outputs": [
    {
     "data": {
      "text/html": [
       "<div>\n",
       "<style scoped>\n",
       "    .dataframe tbody tr th:only-of-type {\n",
       "        vertical-align: middle;\n",
       "    }\n",
       "\n",
       "    .dataframe tbody tr th {\n",
       "        vertical-align: top;\n",
       "    }\n",
       "\n",
       "    .dataframe thead th {\n",
       "        text-align: right;\n",
       "    }\n",
       "</style>\n",
       "<table border=\"1\" class=\"dataframe\">\n",
       "  <thead>\n",
       "    <tr style=\"text-align: right;\">\n",
       "      <th></th>\n",
       "      <th>math</th>\n",
       "      <th>reading</th>\n",
       "      <th>writing</th>\n",
       "    </tr>\n",
       "  </thead>\n",
       "  <tbody>\n",
       "    <tr>\n",
       "      <th>5</th>\n",
       "      <td>68</td>\n",
       "      <td>57</td>\n",
       "      <td>54</td>\n",
       "    </tr>\n",
       "    <tr>\n",
       "      <th>8</th>\n",
       "      <td>80</td>\n",
       "      <td>75</td>\n",
       "      <td>73</td>\n",
       "    </tr>\n",
       "    <tr>\n",
       "      <th>9</th>\n",
       "      <td>57</td>\n",
       "      <td>69</td>\n",
       "      <td>77</td>\n",
       "    </tr>\n",
       "    <tr>\n",
       "      <th>14</th>\n",
       "      <td>55</td>\n",
       "      <td>54</td>\n",
       "      <td>52</td>\n",
       "    </tr>\n",
       "    <tr>\n",
       "      <th>16</th>\n",
       "      <td>35</td>\n",
       "      <td>47</td>\n",
       "      <td>41</td>\n",
       "    </tr>\n",
       "    <tr>\n",
       "      <th>...</th>\n",
       "      <td>...</td>\n",
       "      <td>...</td>\n",
       "      <td>...</td>\n",
       "    </tr>\n",
       "    <tr>\n",
       "      <th>980</th>\n",
       "      <td>76</td>\n",
       "      <td>74</td>\n",
       "      <td>67</td>\n",
       "    </tr>\n",
       "    <tr>\n",
       "      <th>982</th>\n",
       "      <td>28</td>\n",
       "      <td>27</td>\n",
       "      <td>23</td>\n",
       "    </tr>\n",
       "    <tr>\n",
       "      <th>990</th>\n",
       "      <td>70</td>\n",
       "      <td>77</td>\n",
       "      <td>76</td>\n",
       "    </tr>\n",
       "    <tr>\n",
       "      <th>995</th>\n",
       "      <td>77</td>\n",
       "      <td>77</td>\n",
       "      <td>71</td>\n",
       "    </tr>\n",
       "    <tr>\n",
       "      <th>996</th>\n",
       "      <td>80</td>\n",
       "      <td>66</td>\n",
       "      <td>66</td>\n",
       "    </tr>\n",
       "  </tbody>\n",
       "</table>\n",
       "<p>323 rows × 3 columns</p>\n",
       "</div>"
      ],
      "text/plain": [
       "     math  reading  writing\n",
       "5      68       57       54\n",
       "8      80       75       73\n",
       "9      57       69       77\n",
       "14     55       54       52\n",
       "16     35       47       41\n",
       "..    ...      ...      ...\n",
       "980    76       74       67\n",
       "982    28       27       23\n",
       "990    70       77       76\n",
       "995    77       77       71\n",
       "996    80       66       66\n",
       "\n",
       "[323 rows x 3 columns]"
      ]
     },
     "execution_count": 4,
     "metadata": {},
     "output_type": "execute_result"
    }
   ],
   "source": [
    "df_exams = df_exams.dropna()\n",
    "\n",
    "# Kalite 3-4 aralığını filtrele\n",
    "group_d = df_exams[df_exams[\"race/ethnicity\"] == \"group C\"]\n",
    "\n",
    "# Math score'ı döndür\n",
    "math_score_df = group_d[\"math score\"]\n",
    "reading_score_df = group_d[\"reading score\"]\n",
    "writing_score_df = group_d[\"writing score\"]\n",
    "\n",
    "sample_exams = pd.DataFrame({\n",
    "    \"math\": math_score_df,\n",
    "    \"reading\": reading_score_df,\n",
    "    \"writing\": writing_score_df\n",
    "})\n",
    "sample_exams\n"
   ]
  },
  {
   "cell_type": "code",
   "execution_count": 5,
   "id": "07d07cec-b2b0-4c78-866a-6d158a2f77a9",
   "metadata": {
    "tags": []
   },
   "outputs": [
    {
     "name": "stdout",
     "output_type": "stream",
     "text": [
      "count    323.000000\n",
      "mean      65.510836\n",
      "std       14.585442\n",
      "min       20.000000\n",
      "25%       57.000000\n",
      "50%       66.000000\n",
      "75%       76.000000\n",
      "max       95.000000\n",
      "Name: math, dtype: float64\n",
      "count    323.000000\n",
      "mean      68.609907\n",
      "std       13.697582\n",
      "min       25.000000\n",
      "25%       60.000000\n",
      "50%       69.000000\n",
      "75%       78.000000\n",
      "max       98.000000\n",
      "Name: reading, dtype: float64\n",
      "count    323.000000\n",
      "mean      66.804954\n",
      "std       14.378935\n",
      "min       15.000000\n",
      "25%       58.000000\n",
      "50%       68.000000\n",
      "75%       76.000000\n",
      "max       99.000000\n",
      "Name: writing, dtype: float64\n"
     ]
    }
   ],
   "source": [
    "print(sample_exams[\"math\"].describe())\n",
    "print(sample_exams[\"reading\"].describe())\n",
    "print(sample_exams[\"writing\"].describe())"
   ]
  },
  {
   "cell_type": "code",
   "execution_count": 6,
   "id": "c8af3361-74b9-4f92-b1e5-1f65d5a77550",
   "metadata": {
    "tags": []
   },
   "outputs": [
    {
     "data": {
      "text/plain": [
       "ShapiroResult(statistic=0.9803658127784729, pvalue=0.00021134622511453927)"
      ]
     },
     "execution_count": 6,
     "metadata": {},
     "output_type": "execute_result"
    }
   ],
   "source": [
    "shapiro(math_score_df)"
   ]
  },
  {
   "cell_type": "code",
   "execution_count": 7,
   "id": "c1dd7b7a-b31d-46ff-9e11-c7edbe45f8d5",
   "metadata": {
    "tags": []
   },
   "outputs": [
    {
     "data": {
      "text/plain": [
       "ShapiroResult(statistic=0.9839138984680176, pvalue=0.001121637411415577)"
      ]
     },
     "execution_count": 7,
     "metadata": {},
     "output_type": "execute_result"
    }
   ],
   "source": [
    "shapiro(reading_score_df)"
   ]
  },
  {
   "cell_type": "code",
   "execution_count": 8,
   "id": "7ef96947-5d49-44c8-9b9e-b02d0b8552ff",
   "metadata": {
    "tags": []
   },
   "outputs": [
    {
     "data": {
      "text/plain": [
       "ShapiroResult(statistic=0.9848498702049255, pvalue=0.0017798223998397589)"
      ]
     },
     "execution_count": 8,
     "metadata": {},
     "output_type": "execute_result"
    }
   ],
   "source": [
    "shapiro(writing_score_df)"
   ]
  },
  {
   "cell_type": "code",
   "execution_count": 9,
   "id": "14f28f18-7f9a-46a0-b45c-093eedd286b9",
   "metadata": {
    "tags": []
   },
   "outputs": [
    {
     "data": {
      "text/plain": [
       "array([[<Axes: title={'center': 'writing'}>]], dtype=object)"
      ]
     },
     "execution_count": 9,
     "metadata": {},
     "output_type": "execute_result"
    },
    {
     "data": {
      "image/png": "[encoded data removed]",
      "text/plain": [
       "<Figure size 640x480 with 1 Axes>"
      ]
     },
     "metadata": {},
     "output_type": "display_data"
    },
    {
     "data": {
      "image/png": "[encoded data removed]",
      "text/plain": [
       "<Figure size 640x480 with 1 Axes>"
      ]
     },
     "metadata": {},
     "output_type": "display_data"
    },
    {
     "data": {
      "image/png": "[encoded data removed]",
      "text/plain": [
       "<Figure size 640x480 with 1 Axes>"
      ]
     },
     "metadata": {},
     "output_type": "display_data"
    }
   ],
   "source": [
    "sample_exams.hist(\"math\")\n",
    "sample_exams.hist(\"reading\")\n",
    "sample_exams.hist(\"writing\")"
   ]
  },
  {
   "cell_type": "code",
   "execution_count": 10,
   "id": "d7232e61-581a-435e-9eea-c1dce638a99f",
   "metadata": {
    "tags": []
   },
   "outputs": [
    {
     "data": {
      "image/png": "[encoded data removed]",
      "text/plain": [
       "<Figure size 640x480 with 1 Axes>"
      ]
     },
     "metadata": {},
     "output_type": "display_data"
    }
   ],
   "source": [
    "fig=sn.qqplot(math_score_df,line=\"45\")\n",
    "plt.show()"
   ]
  },
  {
   "cell_type": "code",
   "execution_count": 11,
   "id": "40531e19-5fb8-4d0f-83c2-7072bac7b609",
   "metadata": {
    "tags": []
   },
   "outputs": [
    {
     "data": {
      "image/png": "[encoded data removed]",
      "text/plain": [
       "<Figure size 900x300 with 3 Axes>"
      ]
     },
     "metadata": {},
     "output_type": "display_data"
    }
   ],
   "source": [
    "plt.figure(figsize=(9, 3))\n",
    "\n",
    "plt.subplot(131)\n",
    "plt.boxplot(math_score_df)\n",
    "plt.title(\"math\")\n",
    "\n",
    "plt.subplot(132)\n",
    "plt.boxplot(reading_score_df)\n",
    "plt.title(\"reading\")\n",
    "\n",
    "plt.subplot(133)\n",
    "plt.boxplot(writing_score_df)\n",
    "plt.title(\"writing\")\n",
    "\n",
    "plt.show()"
   ]
  },
  {
   "cell_type": "code",
   "execution_count": 12,
   "id": "ef8d5856-0407-4f5d-8821-aa04e8460359",
   "metadata": {
    "tags": []
   },
   "outputs": [
    {
     "data": {
      "text/plain": [
       "BinomTestResult(k=160, n=314, alternative='greater', statistic=0.5095541401273885, pvalue=0.3889345445349581)"
      ]
     },
     "execution_count": 12,
     "metadata": {},
     "output_type": "execute_result"
    }
   ],
   "source": [
    "from scipy.stats import binomtest\n",
    "import statistics\n",
    "math=pd.array(math_score_df)\n",
    "median_ = statistics.median(math_score_df) \n",
    "n = len(math)\n",
    "nPlus = len(math[math > median_])\n",
    "nNeg = len(math[math < median_])\n",
    "n = nPlus + nNeg\n",
    "binomtest(nPlus, n, p=0.5, alternative='greater')"
   ]
  },
  {
   "cell_type": "code",
   "execution_count": 13,
   "id": "ee57e5bf-6d4a-4b98-88d6-12f68133c10b",
   "metadata": {
    "tags": []
   },
   "outputs": [
    {
     "data": {
      "text/plain": [
       "BinomTestResult(k=153, n=311, alternative='less', statistic=0.4919614147909968, pvalue=0.4103046943132332)"
      ]
     },
     "execution_count": 13,
     "metadata": {},
     "output_type": "execute_result"
    }
   ],
   "source": [
    "from scipy.stats import binomtest\n",
    "import statistics\n",
    "reading=pd.array(reading_score_df)\n",
    "median_ = statistics.median(reading_score_df) \n",
    "n = len(reading)\n",
    "nPlus = len(reading[reading > median_])\n",
    "nNeg = len(reading[reading < median_])\n",
    "n = nPlus + nNeg\n",
    "binomtest(nPlus, n, p=0.5, alternative='less')"
   ]
  },
  {
   "cell_type": "code",
   "execution_count": 14,
   "id": "71ec1c50-4f4c-4e58-8293-54b7e03cd8f5",
   "metadata": {
    "tags": []
   },
   "outputs": [
    {
     "data": {
      "text/plain": [
       "BinomTestResult(k=154, n=313, alternative='two-sided', statistic=0.49201277955271566, pvalue=0.8211734413845575)"
      ]
     },
     "execution_count": 14,
     "metadata": {},
     "output_type": "execute_result"
    }
   ],
   "source": [
    "from scipy.stats import binomtest\n",
    "import statistics\n",
    "writing=pd.array(writing_score_df)\n",
    "median_ = statistics.median(writing_score_df) \n",
    "n = len(writing)\n",
    "nPlus = len(writing[writing> median_])\n",
    "nNeg = len(writing[writing < median_])\n",
    "n = nPlus + nNeg\n",
    "binomtest(nPlus, n, p=0.5, alternative='two-sided')"
   ]
  },
  {
   "cell_type": "code",
   "execution_count": 15,
   "id": "2b05494d-15d6-4bc0-a82a-8bc24ae0e867",
   "metadata": {
    "tags": []
   },
   "outputs": [
    {
     "data": {
      "text/plain": [
       "WilcoxonResult(statistic=16203.0, pvalue=2.978267373360293e-09)"
      ]
     },
     "execution_count": 15,
     "metadata": {},
     "output_type": "execute_result"
    }
   ],
   "source": [
    "stats.wilcoxon(math_score_df,reading_score_df,alternative=\"two-sided\",method=\"approx\",zero_method=\"zsplit\",correction=True)"
   ]
  },
  {
   "cell_type": "code",
   "execution_count": 16,
   "id": "8280ab14-166b-48b2-959c-d56f87f03107",
   "metadata": {
    "tags": []
   },
   "outputs": [
    {
     "data": {
      "text/plain": [
       "WilcoxonResult(statistic=22622.0, pvalue=0.034953978631180854)"
      ]
     },
     "execution_count": 16,
     "metadata": {},
     "output_type": "execute_result"
    }
   ],
   "source": [
    "stats.wilcoxon(math_score_df,writing_score_df,alternative=\"two-sided\",method=\"approx\",zero_method=\"zsplit\",correction=True)"
   ]
  },
  {
   "cell_type": "code",
   "execution_count": 17,
   "id": "a3179ddf-eae5-4969-a088-3c471dd71607",
   "metadata": {
    "tags": []
   },
   "outputs": [
    {
     "data": {
      "text/plain": [
       "WilcoxonResult(statistic=15645.0, pvalue=3.584576590345385e-10)"
      ]
     },
     "execution_count": 17,
     "metadata": {},
     "output_type": "execute_result"
    }
   ],
   "source": [
    "stats.wilcoxon(writing_score_df,reading_score_df,alternative=\"two-sided\",method=\"approx\",zero_method=\"zsplit\",correction=True)"
   ]
  },
  {
   "cell_type": "code",
   "execution_count": 18,
   "id": "7a4bde96-3d50-4a0f-b5bb-5dd0f0c679b4",
   "metadata": {
    "tags": []
   },
   "outputs": [
    {
     "data": {
      "text/plain": [
       "FriedmanchisquareResult(statistic=45.47596153846158, pvalue=1.3335841412634522e-10)"
      ]
     },
     "execution_count": 18,
     "metadata": {},
     "output_type": "execute_result"
    }
   ],
   "source": [
    "stats.friedmanchisquare(math_score_df,writing_score_df,reading_score_df)"
   ]
  },
  {
   "cell_type": "code",
   "execution_count": 27,
   "id": "09452188-0a78-4ded-a43f-b431c28df3bb",
   "metadata": {
    "tags": []
   },
   "outputs": [
    {
     "name": "stdout",
     "output_type": "stream",
     "text": [
      "             math   reading   writing\n",
      "math     1.000000  0.009276  0.326756\n",
      "reading  0.009276  1.000000  0.105009\n",
      "writing  0.326756  0.105009  1.000000\n"
     ]
    }
   ],
   "source": [
    "import numpy as np\n",
    "from scikit_posthocs import posthoc_dunn\n",
    "scoref = np.concatenate((math_score_df, reading_score_df, writing_score_df))\n",
    "dff = pd.DataFrame({'score': scoref,\n",
    "                    'group': np.repeat(['math', 'reading', 'writing'], repeats=323)})  \n",
    "dff\n",
    "\n",
    "results = posthoc_dunn(dff, val_col='score', group_col='group')\n",
    "\n",
    "print(results)"
   ]
  },
  {
   "cell_type": "markdown",
   "id": "ea901c30-2f27-48de-a41a-62b035bf075a",
   "metadata": {},
   "source": [
    "## Zaman serisi"
   ]
  },
  {
   "cell_type": "code",
   "execution_count": 3,
   "id": "1089d951-523b-46c5-8751-58cdfb89cada",
   "metadata": {
    "tags": []
   },
   "outputs": [
    {
     "data": {
      "text/html": [
       "<div>\n",
       "<style scoped>\n",
       "    .dataframe tbody tr th:only-of-type {\n",
       "        vertical-align: middle;\n",
       "    }\n",
       "\n",
       "    .dataframe tbody tr th {\n",
       "        vertical-align: top;\n",
       "    }\n",
       "\n",
       "    .dataframe thead th {\n",
       "        text-align: right;\n",
       "    }\n",
       "</style>\n",
       "<table border=\"1\" class=\"dataframe\">\n",
       "  <thead>\n",
       "    <tr style=\"text-align: right;\">\n",
       "      <th></th>\n",
       "      <th>yıllar</th>\n",
       "      <th>en düşük sıcaklık ortalamaları</th>\n",
       "    </tr>\n",
       "  </thead>\n",
       "  <tbody>\n",
       "    <tr>\n",
       "      <th>0</th>\n",
       "      <td>2020</td>\n",
       "      <td>8.700824</td>\n",
       "    </tr>\n",
       "    <tr>\n",
       "      <th>1</th>\n",
       "      <td>2019</td>\n",
       "      <td>7.931781</td>\n",
       "    </tr>\n",
       "    <tr>\n",
       "      <th>2</th>\n",
       "      <td>2018</td>\n",
       "      <td>8.352603</td>\n",
       "    </tr>\n",
       "    <tr>\n",
       "      <th>3</th>\n",
       "      <td>2017</td>\n",
       "      <td>8.283014</td>\n",
       "    </tr>\n",
       "    <tr>\n",
       "      <th>4</th>\n",
       "      <td>2016</td>\n",
       "      <td>7.941530</td>\n",
       "    </tr>\n",
       "  </tbody>\n",
       "</table>\n",
       "</div>"
      ],
      "text/plain": [
       "   yıllar  en düşük sıcaklık ortalamaları\n",
       "0    2020                        8.700824\n",
       "1    2019                        7.931781\n",
       "2    2018                        8.352603\n",
       "3    2017                        8.283014\n",
       "4    2016                        7.941530"
      ]
     },
     "execution_count": 3,
     "metadata": {},
     "output_type": "execute_result"
    }
   ],
   "source": [
    "import pandas as pd\n",
    "df = pd.read_excel('Kitap1.xlsx')\n",
    "df.head()"
   ]
  },
  {
   "cell_type": "code",
   "execution_count": 20,
   "id": "c0dd56d8-826c-4dbf-a22c-221c4a8fc35f",
   "metadata": {
    "tags": []
   },
   "outputs": [
    {
     "data": {
      "text/plain": [
       "Mann_Kendall_Test(trend='no trend', h=False, p=0.27575784782750934, z=-1.0898985218261321, Tau=-0.2727272727272727, s=-15.0, var_s=165.0, slope=-0.0366775935734943, intercept=8.329686310408892)"
      ]
     },
     "execution_count": 20,
     "metadata": {},
     "output_type": "execute_result"
    }
   ],
   "source": [
    "import pymannkendall as mk\n",
    "sicaklik = df['en düşük sıcaklık ortalamaları']\n",
    "mk.original_test(sicaklik)"
   ]
  }
 ],
 "metadata": {
  "kernelspec": {
   "display_name": "Python 3 (ipykernel)",
   "language": "python",
   "name": "python3"
  },
  "language_info": {
   "codemirror_mode": {
    "name": "ipython",
    "version": 3
   },
   "file_extension": ".py",
   "mimetype": "text/x-python",
   "name": "python",
   "nbconvert_exporter": "python",
   "pygments_lexer": "ipython3",
   "version": "3.11.4"
  }
 },
 "nbformat": 4,
 "nbformat_minor": 5
}
